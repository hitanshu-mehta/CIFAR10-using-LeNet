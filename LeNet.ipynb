{
 "cells": [
  {
   "cell_type": "markdown",
   "metadata": {},
   "source": [
    "# Image Classification using CNN:"
   ]
  },
  {
   "cell_type": "code",
   "execution_count": 73,
   "metadata": {},
   "outputs": [],
   "source": [
    "import torch\n",
    "import torchvision\n",
    "import torchvision.transforms as transforms\n",
    "import matplotlib.pyplot as plt\n",
    "import numpy as np\n",
    "import torch.nn as nn\n",
    "import pycuda.driver as cuda"
   ]
  },
  {
   "cell_type": "markdown",
   "metadata": {},
   "source": [
    "# Loading the Data:"
   ]
  },
  {
   "cell_type": "code",
   "execution_count": 4,
   "metadata": {},
   "outputs": [
    {
     "name": "stdout",
     "output_type": "stream",
     "text": [
      "Downloading https://www.cs.toronto.edu/~kriz/cifar-10-python.tar.gz to ./data\\cifar-10-python.tar.gz\n"
     ]
    },
    {
     "data": {
      "application/vnd.jupyter.widget-view+json": {
       "model_id": "dbda3c30b5624a0a925cf75bdf6e2eb1",
       "version_major": 2,
       "version_minor": 0
      },
      "text/plain": [
       "HBox(children=(IntProgress(value=1, bar_style='info', max=1), HTML(value='')))"
      ]
     },
     "metadata": {},
     "output_type": "display_data"
    },
    {
     "name": "stdout",
     "output_type": "stream",
     "text": [
      "Extracting ./data\\cifar-10-python.tar.gz to ./data\n"
     ]
    }
   ],
   "source": [
    "trainset = torchvision.datasets.CIFAR10('./data',train = True,transform= transforms.ToTensor(),download=True)"
   ]
  },
  {
   "cell_type": "code",
   "execution_count": 5,
   "metadata": {},
   "outputs": [],
   "source": [
    "classes = ('plane','car','bird','cat','deer','dog','frog','horse','ship','truck')"
   ]
  },
  {
   "cell_type": "code",
   "execution_count": 6,
   "metadata": {},
   "outputs": [],
   "source": [
    "trainloader = torch.utils.data.DataLoader(trainset,batch_size = 4,shuffle = True)"
   ]
  },
  {
   "cell_type": "code",
   "execution_count": 7,
   "metadata": {},
   "outputs": [
    {
     "name": "stdout",
     "output_type": "stream",
     "text": [
      "torch.Size([4, 3, 32, 32])\n",
      "torch.Size([3, 32, 32])\n",
      "8\n"
     ]
    }
   ],
   "source": [
    "dataiter = iter(trainloader)\n",
    "images,labels = dataiter.next()\n",
    "print(images.shape)\n",
    "print(images[0].shape)\n",
    "print(labels[0].item())"
   ]
  },
  {
   "cell_type": "markdown",
   "metadata": {},
   "source": [
    "# Visualizing Images:"
   ]
  },
  {
   "cell_type": "code",
   "execution_count": 14,
   "metadata": {},
   "outputs": [
    {
     "name": "stdout",
     "output_type": "stream",
     "text": [
      "(3, 32, 32)\n"
     ]
    }
   ],
   "source": [
    "# convert torch tensor to numpy array\n",
    "npimg = images[0].numpy()\n",
    "print(npimg.shape)"
   ]
  },
  {
   "cell_type": "code",
   "execution_count": 16,
   "metadata": {},
   "outputs": [
    {
     "name": "stdout",
     "output_type": "stream",
     "text": [
      "(32, 32, 3)\n"
     ]
    }
   ],
   "source": [
    "npimg = np.transpose(npimg,(1,2,0))\n",
    "print(npimg.shape)"
   ]
  },
  {
   "cell_type": "code",
   "execution_count": 17,
   "metadata": {},
   "outputs": [
    {
     "data": {
      "image/png": "[encoded data removed]",
      "text/plain": [
       "<Figure size 72x72 with 1 Axes>"
      ]
     },
     "metadata": {
      "needs_background": "light"
     },
     "output_type": "display_data"
    }
   ],
   "source": [
    "plt.figure(figsize = (1,1))\n",
    "plt.imshow(npimg)\n",
    "plt.show()"
   ]
  },
  {
   "cell_type": "code",
   "execution_count": 18,
   "metadata": {},
   "outputs": [],
   "source": [
    "def imshow(img):\n",
    "    npimg = img.numpy()\n",
    "    plt.imshow(np.transpose(npimg,(1,2,0)))\n",
    "    plt.show()"
   ]
  },
  {
   "cell_type": "code",
   "execution_count": 25,
   "metadata": {},
   "outputs": [
    {
     "data": {
      "image/png": "[encoded data removed]",
      "text/plain": [
       "<Figure size 432x288 with 1 Axes>"
      ]
     },
     "metadata": {
      "needs_background": "light"
     },
     "output_type": "display_data"
    },
    {
     "name": "stdout",
     "output_type": "stream",
     "text": [
      "ship bird plane plane\n"
     ]
    }
   ],
   "source": [
    "imshow(torchvision.utils.make_grid(images))\n",
    "print(' '.join(classes[labels[j]] for j in range(4)))"
   ]
  },
  {
   "cell_type": "markdown",
   "metadata": {},
   "source": [
    "# LeNet:"
   ]
  },
  {
   "cell_type": "code",
   "execution_count": 48,
   "metadata": {},
   "outputs": [],
   "source": [
    "class LeNet(nn.Module):\n",
    "    def __init__(self):\n",
    "        super(LeNet,self).__init__()\n",
    "        self.cnn_model = nn.Sequential(\n",
    "        nn.Conv2d(3,6,5),\n",
    "        nn.Tanh(),\n",
    "        nn.AvgPool2d(2,stride = 2),\n",
    "        nn.Conv2d(6,16,5),\n",
    "        nn.Tanh(),\n",
    "        nn.AvgPool2d(2,stride = 2),\n",
    "        )\n",
    "        self.fc_model = nn.Sequential(\n",
    "        nn.Linear(400,120),\n",
    "        nn.Tanh(),\n",
    "        nn.Linear(120,84),\n",
    "        nn.Tanh(),\n",
    "        nn.Linear(84,10)\n",
    "        )\n",
    "    \n",
    "    def forward(self,x):\n",
    "#         print(x.shape)\n",
    "        x = self.cnn_model(x)\n",
    "#         print(x.shape)\n",
    "        x = x.view(x.size(0),-1)\n",
    "#         print(x.shape)\n",
    "        x = self.fc_model(x)\n",
    "#         print(x.shape)\n",
    "        return x"
   ]
  },
  {
   "cell_type": "code",
   "execution_count": 49,
   "metadata": {},
   "outputs": [],
   "source": [
    "net = LeNet()\n",
    "out = net(images)"
   ]
  },
  {
   "cell_type": "code",
   "execution_count": 50,
   "metadata": {},
   "outputs": [
    {
     "name": "stdout",
     "output_type": "stream",
     "text": [
      "tensor([[-0.0879, -0.0652, -0.0167,  0.0997, -0.1256,  0.0166,  0.0844,  0.0309,\n",
      "         -0.0683, -0.0523],\n",
      "        [-0.0922, -0.0536, -0.0067,  0.0701, -0.1110,  0.0279,  0.0471,  0.0172,\n",
      "         -0.0911, -0.0228],\n",
      "        [-0.0805, -0.0658, -0.0026,  0.0952, -0.1169, -0.0040,  0.0696,  0.0278,\n",
      "         -0.0665, -0.0312],\n",
      "        [-0.0916, -0.0557, -0.0035,  0.0937, -0.1184,  0.0130,  0.0754,  0.0196,\n",
      "         -0.0626, -0.0563]], grad_fn=<AddmmBackward>)\n"
     ]
    }
   ],
   "source": [
    "print(out)"
   ]
  },
  {
   "cell_type": "code",
   "execution_count": 51,
   "metadata": {},
   "outputs": [
    {
     "name": "stdout",
     "output_type": "stream",
     "text": [
      "tensor([3, 3, 3, 3])\n"
     ]
    }
   ],
   "source": [
    "max_values,pred_class = torch.max(out.data,1)\n",
    "print(pred_class)"
   ]
  },
  {
   "cell_type": "markdown",
   "metadata": {},
   "source": [
    "# Train LeNet:"
   ]
  },
  {
   "cell_type": "code",
   "execution_count": 52,
   "metadata": {},
   "outputs": [
    {
     "name": "stdout",
     "output_type": "stream",
     "text": [
      "Files already downloaded and verified\n",
      "Files already downloaded and verified\n"
     ]
    }
   ],
   "source": [
    "batch_size = 128\n",
    "trainset = torchvision.datasets.CIFAR10(root = './data',train = True,download = True,transform = transforms.ToTensor())\n",
    "trainloader = torch.utils.data.DataLoader(trainset,batch_size = batch_size, shuffle = True)\n",
    "testset = torchvision.datasets.CIFAR10(root = './data',train = False,download = True,transform = transforms.ToTensor())\n",
    "testloader = torch.utils.data.DataLoader(testset, batch_size = batch_size , shuffle = False)"
   ]
  },
  {
   "cell_type": "code",
   "execution_count": 57,
   "metadata": {},
   "outputs": [],
   "source": [
    "def evaluation(dataloader):\n",
    "    total, correct = 0,0\n",
    "    for data in dataloader:\n",
    "        inputs,labels = data\n",
    "        outputs = net(inputs)\n",
    "        _,pred = torch.max(outputs.data,1)\n",
    "        total += labels.size(0)\n",
    "        correct += (pred == labels).sum().item()\n",
    "    return 100 * correct / total"
   ]
  },
  {
   "cell_type": "code",
   "execution_count": 58,
   "metadata": {},
   "outputs": [],
   "source": [
    "net = LeNet()"
   ]
  },
  {
   "cell_type": "code",
   "execution_count": 59,
   "metadata": {},
   "outputs": [],
   "source": [
    "import torch.optim as optim\n",
    "\n",
    "loss_fn = nn.CrossEntropyLoss()\n",
    "opt = optim.Adam(net.parameters())"
   ]
  },
  {
   "cell_type": "code",
   "execution_count": 60,
   "metadata": {},
   "outputs": [
    {
     "name": "stdout",
     "output_type": "stream",
     "text": [
      "Epoch: 0/16, Test acc: 39.09, Train acc: 38.90\n",
      "Epoch: 1/16, Test acc: 43.02, Train acc: 42.88\n",
      "Epoch: 2/16, Test acc: 46.14, Train acc: 46.49\n",
      "Epoch: 3/16, Test acc: 48.40, Train acc: 50.10\n",
      "Epoch: 4/16, Test acc: 50.34, Train acc: 51.55\n",
      "Epoch: 5/16, Test acc: 51.48, Train acc: 54.07\n",
      "Epoch: 6/16, Test acc: 52.87, Train acc: 55.93\n",
      "Epoch: 7/16, Test acc: 53.24, Train acc: 57.32\n",
      "Epoch: 8/16, Test acc: 53.64, Train acc: 58.25\n",
      "Epoch: 9/16, Test acc: 54.15, Train acc: 59.45\n",
      "Epoch: 10/16, Test acc: 54.95, Train acc: 60.50\n",
      "Epoch: 11/16, Test acc: 54.31, Train acc: 60.69\n",
      "Epoch: 12/16, Test acc: 55.21, Train acc: 62.36\n",
      "Epoch: 13/16, Test acc: 54.98, Train acc: 63.32\n",
      "Epoch: 14/16, Test acc: 55.10, Train acc: 63.88\n",
      "Epoch: 15/16, Test acc: 55.39, Train acc: 64.99\n"
     ]
    },
    {
     "data": {
      "image/png": "[encoded data removed]",
      "text/plain": [
       "<Figure size 432x288 with 1 Axes>"
      ]
     },
     "metadata": {
      "needs_background": "light"
     },
     "output_type": "display_data"
    },
    {
     "name": "stdout",
     "output_type": "stream",
     "text": [
      "Wall time: 16min 42s\n"
     ]
    }
   ],
   "source": [
    "%%time \n",
    "loss_arr = []\n",
    "loss_epoch_arr = []\n",
    "max_epoch = 16\n",
    "\n",
    "for epoch in range(max_epoch):\n",
    "    \n",
    "    for i,data in enumerate(trainloader,0):\n",
    "        \n",
    "        inputs, labels = data\n",
    "        opt.zero_grad()\n",
    "        \n",
    "        outputs= net(inputs)\n",
    "        loss = loss_fn(outputs,labels)\n",
    "        loss.backward()\n",
    "        opt.step()\n",
    "        \n",
    "        loss_arr.append(loss.item())\n",
    "        \n",
    "    loss_epoch_arr.append(loss.item())\n",
    "    \n",
    "    print('Epoch: %d/%d, Test acc: %0.2f, Train acc: %0.2f'% (epoch,max_epoch,evaluation(testloader),evaluation(trainloader)))\n",
    "\n",
    "plt.plot(loss_epoch_arr)\n",
    "plt.show()"
   ]
  },
  {
   "cell_type": "markdown",
   "metadata": {},
   "source": [
    "# Move to GPU:"
   ]
  },
  {
   "cell_type": "code",
   "execution_count": 61,
   "metadata": {},
   "outputs": [
    {
     "name": "stdout",
     "output_type": "stream",
     "text": [
      "cuda:0\n"
     ]
    }
   ],
   "source": [
    "device = torch.device(\"cuda:0\")\n",
    "print(device)"
   ]
  },
  {
   "cell_type": "code",
   "execution_count": 75,
   "metadata": {},
   "outputs": [
    {
     "data": {
      "text/plain": [
       "'GeForce MX150'"
      ]
     },
     "execution_count": 75,
     "metadata": {},
     "output_type": "execute_result"
    }
   ],
   "source": [
    "torch.cuda.current_device()\n",
    "cuda.Device(0).name()"
   ]
  },
  {
   "cell_type": "code",
   "execution_count": 76,
   "metadata": {},
   "outputs": [
    {
     "name": "stdout",
     "output_type": "stream",
     "text": [
      "1 device(s) found:\n",
      "GeForce MX150 (Id: 0)\n"
     ]
    }
   ],
   "source": [
    "num = cuda.Device.count()\n",
    "print(\"%d device(s) found:\"%num)\n",
    "for i in range(num):\n",
    "    print(cuda.Device(i).name(), \"(Id: %d)\"%i)"
   ]
  },
  {
   "cell_type": "code",
   "execution_count": 79,
   "metadata": {},
   "outputs": [
    {
     "name": "stdout",
     "output_type": "stream",
     "text": [
      "(3139334553, 4294967296)\n"
     ]
    }
   ],
   "source": [
    "print(cuda.mem_get_info())"
   ]
  },
  {
   "cell_type": "code",
   "execution_count": 62,
   "metadata": {},
   "outputs": [],
   "source": [
    "def evaluation(dataloader):\n",
    "    total, correct=0,0\n",
    "    for data in dataloader:\n",
    "        inputs,labels = data\n",
    "        inputs,labels = inputs.to(device),labels.to(device)\n",
    "        outputs = net(inputs)\n",
    "        _,pred = torch.max(outputs.data,1)\n",
    "        total += labels.size(0)\n",
    "        correct += (pred == labels).sum().item()\n",
    "    return 100 * correct/total"
   ]
  },
  {
   "cell_type": "code",
   "execution_count": 63,
   "metadata": {},
   "outputs": [],
   "source": [
    "net = LeNet().to(device)\n",
    "loss_fn = nn.CrossEntropyLoss()\n",
    "opt = optim.Adam(net.parameters())"
   ]
  },
  {
   "cell_type": "code",
   "execution_count": 65,
   "metadata": {},
   "outputs": [
    {
     "name": "stdout",
     "output_type": "stream",
     "text": [
      "Epoch: 0/16, Test acc: 38.11, Train acc: 37.84\n",
      "Epoch: 1/16, Test acc: 43.69, Train acc: 43.88\n",
      "Epoch: 2/16, Test acc: 47.37, Train acc: 47.61\n",
      "Epoch: 3/16, Test acc: 48.65, Train acc: 49.85\n",
      "Epoch: 4/16, Test acc: 49.72, Train acc: 52.02\n",
      "Epoch: 5/16, Test acc: 51.24, Train acc: 54.25\n",
      "Epoch: 6/16, Test acc: 52.07, Train acc: 55.97\n",
      "Epoch: 7/16, Test acc: 52.93, Train acc: 57.35\n",
      "Epoch: 8/16, Test acc: 52.95, Train acc: 58.36\n",
      "Epoch: 9/16, Test acc: 54.03, Train acc: 59.84\n",
      "Epoch: 10/16, Test acc: 54.53, Train acc: 61.13\n",
      "Epoch: 11/16, Test acc: 54.02, Train acc: 61.19\n",
      "Epoch: 12/16, Test acc: 54.27, Train acc: 62.45\n",
      "Epoch: 13/16, Test acc: 55.60, Train acc: 64.07\n",
      "Epoch: 14/16, Test acc: 54.66, Train acc: 63.94\n",
      "Epoch: 15/16, Test acc: 55.24, Train acc: 64.45\n"
     ]
    },
    {
     "data": {
      "image/png": "[encoded data removed]",
      "text/plain": [
       "<Figure size 432x288 with 1 Axes>"
      ]
     },
     "metadata": {
      "needs_background": "light"
     },
     "output_type": "display_data"
    },
    {
     "name": "stdout",
     "output_type": "stream",
     "text": [
      "Wall time: 6min 26s\n"
     ]
    }
   ],
   "source": [
    "%%time\n",
    "max_epoch = 16\n",
    "loss_arr = []\n",
    "loss_epoch_arr =[]\n",
    "\n",
    "for epoch in range(max_epoch):\n",
    "    \n",
    "    for i,data in enumerate(trainloader,0):\n",
    "        \n",
    "        inputs,labels = data\n",
    "        inputs,labels = inputs.to(device),labels.to(device)\n",
    "        opt.zero_grad()\n",
    "        \n",
    "        outputs = net(inputs)\n",
    "        loss = loss_fn(outputs,labels)\n",
    "        loss.backward()\n",
    "        opt.step()\n",
    "        \n",
    "        loss_arr.append(loss.item())\n",
    "    loss_epoch_arr.append(loss.item())\n",
    "    \n",
    "    print('Epoch: %d/%d, Test acc: %0.2f, Train acc: %0.2f'% (epoch,max_epoch,evaluation(testloader),evaluation(trainloader)))\n",
    "\n",
    "plt.plot(loss_epoch_arr)\n",
    "plt.show()"
   ]
  },
  {
   "cell_type": "code",
   "execution_count": 100,
   "metadata": {},
   "outputs": [
    {
     "name": "stdout",
     "output_type": "stream",
     "text": [
      "(3, 32, 32)\n",
      "(32, 32, 3)\n"
     ]
    },
    {
     "data": {
      "image/png": "[encoded data removed]",
      "text/plain": [
       "<Figure size 432x288 with 1 Axes>"
      ]
     },
     "metadata": {
      "needs_background": "light"
     },
     "output_type": "display_data"
    },
    {
     "name": "stdout",
     "output_type": "stream",
     "text": [
      "truck\n"
     ]
    }
   ],
   "source": [
    "itr = iter(testloader)\n",
    "imgs,labels  = itr.next()\n",
    "npimg = imgs[14].numpy()\n",
    "print(npimg.shape)\n",
    "npimg = np.transpose(npimg,(1,2,0))\n",
    "print(npimg.shape)\n",
    "plt.imshow(npimg)\n",
    "plt.show()\n",
    "print(classes[labels[14].item()])"
   ]
  },
  {
   "cell_type": "code",
   "execution_count": null,
   "metadata": {},
   "outputs": [],
   "source": []
  }
 ],
 "metadata": {
  "kernelspec": {
   "display_name": "Python 3",
   "language": "python",
   "name": "python3"
  },
  "language_info": {
   "codemirror_mode": {
    "name": "ipython",
    "version": 3
   },
   "file_extension": ".py",
   "mimetype": "text/x-python",
   "name": "python",
   "nbconvert_exporter": "python",
   "pygments_lexer": "ipython3",
   "version": "3.7.4"
  }
 },
 "nbformat": 4,
 "nbformat_minor": 2
}
